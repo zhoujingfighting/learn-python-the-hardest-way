{
 "cells": [
  {
   "cell_type": "markdown",
   "metadata": {},
   "source": [
    "## Class and module\n",
    "\n"
   ]
  },
  {
   "cell_type": "code",
   "execution_count": 12,
   "metadata": {},
   "outputs": [
    {
     "data": {
      "text/plain": [
       "6"
      ]
     },
     "execution_count": 12,
     "metadata": {},
     "output_type": "execute_result"
    }
   ],
   "source": [
    "class MyStuff(object) : \n",
    "  # def __init__(self) -> None:\n",
    "  #   pass\n",
    "  \n",
    "  def add(self):\n",
    "    return 3\n",
    "\n",
    "class ZhouJing(MyStuff):\n",
    "  # def __init__(self) -> None:\n",
    "  #   super().__init__()\n",
    "  # pass\n",
    "  def add(self):\n",
    "    return 6\n",
    "  \n",
    "my = MyStuff()\n",
    "zhoujing  = ZhouJing()\n",
    "my.add()\n",
    "zhoujing.add()"
   ]
  }
 ],
 "metadata": {
  "kernelspec": {
   "display_name": "Python 3",
   "language": "python",
   "name": "python3"
  },
  "language_info": {
   "codemirror_mode": {
    "name": "ipython",
    "version": 3
   },
   "file_extension": ".py",
   "mimetype": "text/x-python",
   "name": "python",
   "nbconvert_exporter": "python",
   "pygments_lexer": "ipython3",
   "version": "3.11.6"
  }
 },
 "nbformat": 4,
 "nbformat_minor": 2
}
