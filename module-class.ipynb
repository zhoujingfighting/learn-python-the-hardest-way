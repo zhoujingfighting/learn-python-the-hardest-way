{
 "cells": [
  {
   "cell_type": "markdown",
   "metadata": {},
   "source": [
    "## Class and module\n",
    "\n"
   ]
  },
  {
   "cell_type": "code",
   "execution_count": 2,
   "metadata": {},
   "outputs": [
    {
     "data": {
      "text/plain": [
       "True"
      ]
     },
     "execution_count": 2,
     "metadata": {},
     "output_type": "execute_result"
    }
   ],
   "source": [
    "class MyStuff(object) : \n",
    "  # def __init__(self) -> None:\n",
    "  #   pass\n",
    "  \n",
    "  def add(self):\n",
    "    return 3\n",
    "\n",
    "class ZhouJing(MyStuff):\n",
    "  # def __init__(self) -> None:\n",
    "  #   super().__init__()\n",
    "  # pass\n",
    "  def add(self):\n",
    "    return 6\n",
    "  \n",
    "my = MyStuff()\n",
    "zhoujing  = ZhouJing()\n",
    "my.add()\n",
    "zhoujing.add()\n",
    "isinstance(zhoujing, ZhouJing) # 判断一个object是不是其他class的实例"
   ]
  },
  {
   "cell_type": "code",
   "execution_count": 5,
   "metadata": {},
   "outputs": [
    {
     "name": "stdout",
     "output_type": "stream",
     "text": [
      "parent\n",
      "parent\n",
      "override parent\n",
      "override child\n",
      "Parent alert\n",
      "child before alert\n",
      "Parent alert\n",
      "child after alert\n"
     ]
    }
   ],
   "source": [
    "# 继承\n",
    "class Parent(object):\n",
    "  def implicit(self):\n",
    "    print(\"parent\")\n",
    "  def override(self):\n",
    "    print(\"override parent\")\n",
    "  def alert(self):\n",
    "    print(\"Parent alert\")\n",
    "\n",
    "class Child(Parent):\n",
    "  def override(self):\n",
    "    print(\"override child\")\n",
    "  def alert(self):\n",
    "    print(\"child before alert\")\n",
    "    super().alert()\n",
    "    print(\"child after alert\")\n",
    "\n",
    "parent = Parent()\n",
    "child = Child()\n",
    "parent.implicit()\n",
    "child.implicit()\n",
    "parent.override()\n",
    "child.override()\n",
    "parent.alert()\n",
    "child.alert()"
   ]
  }
 ],
 "metadata": {
  "kernelspec": {
   "display_name": "Python 3",
   "language": "python",
   "name": "python3"
  },
  "language_info": {
   "codemirror_mode": {
    "name": "ipython",
    "version": 3
   },
   "file_extension": ".py",
   "mimetype": "text/x-python",
   "name": "python",
   "nbconvert_exporter": "python",
   "pygments_lexer": "ipython3",
   "version": "3.11.6"
  }
 },
 "nbformat": 4,
 "nbformat_minor": 2
}
