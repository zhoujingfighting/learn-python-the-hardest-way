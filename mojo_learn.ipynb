{
 "cells": [
  {
   "cell_type": "code",
   "execution_count": 1,
   "metadata": {
    "vscode": {
     "languageId": "python"
    }
   },
   "outputs": [
    {
     "name": "stderr",
     "output_type": "stream",
     "text": [
      "error: \u001b[0;1;31m\u001b[1mExpression [1]:4:1: \u001b[0m\u001b[1mexpression must be mutable in assignment\n",
      "\u001b[0mIndex = \"fef\"\n",
      "\u001b[0;1;32m^~~~~\n",
      "\u001b[0m\u001b[0m\n",
      "expression failed to parse (no further compiler diagnostics)"
     ]
    }
   ],
   "source": [
    "# Data types\n",
    "let Index = \"fefef\"\n",
    "print(Index)\n",
    "Index = \"fef\"\n",
    "print(Index)"
   ]
  },
  {
   "cell_type": "code",
   "execution_count": 5,
   "metadata": {
    "vscode": {
     "languageId": "python"
    }
   },
   "outputs": [
    {
     "name": "stdout",
     "output_type": "stream",
     "text": [
      "[4, 16, 64, 676]\n"
     ]
    }
   ],
   "source": [
    "#  SIMD\n",
    "let int1  = SIMD[DType.int32, 4](2,4,8,26)\n",
    "let int2  = SIMD[DType.int32, 4](2,4,8,26)\n",
    "int3 = int1 * int2\n",
    "print(int3)"
   ]
  },
  {
   "cell_type": "code",
   "execution_count": 11,
   "metadata": {
    "vscode": {
     "languageId": "python"
    }
   },
   "outputs": [
    {
     "name": "stdout",
     "output_type": "stream",
     "text": [
      "[2, 8, 18, 32]\n",
      "[0, 0, 0, 0]\n",
      "[1, 16, 81, 0]\n",
      "[1, 1, 1, 1]\n"
     ]
    }
   ],
   "source": [
    "# Function to add 2 SIMD arrays\n",
    "fn add[datatype: DType, length: Int](a: SIMD[datatype, length], b: SIMD[datatype, length]) -> SIMD[datatype, length]:\n",
    "    # Return the sum\n",
    "    return a + b\n",
    "\n",
    "# Function to sub 2 SIMD arrays\n",
    "fn sub[datatype: DType, length: Int](a: SIMD[datatype, length], b: SIMD[datatype, length]) -> SIMD[datatype, length]:\n",
    "    # Return the diff\n",
    "    return a - b\n",
    "\n",
    "# Function to mul 2 SIMD arrays\n",
    "fn mul[datatype: DType, length: Int](a: SIMD[datatype, length], b: SIMD[datatype, length]) -> SIMD[datatype, length]:\n",
    "    # Return the prod\n",
    "    return a * b\n",
    "\n",
    "# Function to div 2 SIMD arrays\n",
    "fn div[datatype: DType, length: Int](a: SIMD[datatype, length], b: SIMD[datatype, length]) -> SIMD[datatype, length]:\n",
    "    # Return the quot\n",
    "    return a / b\n",
    "\n",
    "# Initialize a SIMD array\n",
    "let x = SIMD[DType.int8, 4](1, 4, 9, 16)\n",
    "\n",
    "# Call and print the function\n",
    "print(add(x, x))\n",
    "print(sub(x, x))\n",
    "print(mul(x, x))\n",
    "print(div(x, x))"
   ]
  }
 ],
 "metadata": {
  "kernelspec": {
   "display_name": "Mojo",
   "language": "mojo",
   "name": "mojo-jupyter-kernel"
  },
  "language_info": {
   "codemirror_mode": {
    "name": "mojo"
   },
   "file_extension": ".mojo",
   "mimetype": "text/x-mojo",
   "name": "mojo"
  }
 },
 "nbformat": 4,
 "nbformat_minor": 2
}
