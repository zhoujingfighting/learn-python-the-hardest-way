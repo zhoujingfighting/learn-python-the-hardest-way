{
 "cells": [
  {
   "cell_type": "code",
   "execution_count": 4,
   "metadata": {},
   "outputs": [
    {
     "name": "stderr",
     "output_type": "stream",
     "text": [
      "error: \u001b[0;1;31m\u001b[1mExpression [4]:8:9: \u001b[0m\u001b[1mno matching function in call to 'test': \n",
      "\u001b[0m    test(a, b)\n",
      "\u001b[0;1;32m    ~~~~^~~~~~\n",
      "\u001b[0m\u001b[0m\n",
      "\u001b[0;1;30m\u001b[1mExpression [4]:1:1: \u001b[0m\u001b[1mcandidate not viable: argument #1 cannot be converted from 'SIMD[si32, 1]' to 'SIMD[f32, 1]'\n",
      "\u001b[0mfn test(inout a: Int, borrowed b: Float32) raises:\n",
      "\u001b[0;1;32m^\n",
      "\u001b[0m\u001b[0m\n",
      "\u001b[0;1;30m\u001b[1mExpression [1]:1:1: \u001b[0m\u001b[1mcandidate not viable: argument #1 cannot be converted from 'SIMD[si32, 1]' to 'Int'\n",
      "\u001b[0mfn test(inout a: Int, borrowed b: Int) raises:\n",
      "\u001b[0;1;32m^\n",
      "\u001b[0m\u001b[0m\n",
      "expression failed to parse (no further compiler diagnostics)"
     ]
    }
   ],
   "source": [
    "fn test(inout a: Int, borrowed b: Float32) raises:\n",
    "    a += 1\n",
    "    # b += 1\n",
    "\n",
    "def main():\n",
    "    var a  = 1\n",
    "    let b: Int32 = 1\n",
    "    test(a, b)\n",
    "    print(a)\n",
    "\n",
    "main()"
   ]
  },
  {
   "cell_type": "code",
   "execution_count": 17,
   "metadata": {},
   "outputs": [
    {
     "name": "stdout",
     "output_type": "stream",
     "text": [
      "hello world\n",
      "hello world\n",
      "hello world\n"
     ]
    }
   ],
   "source": [
    "# Parameterization\n",
    "\n",
    "fn repeat[count: Int](msg: String):\n",
    "    for i in range(count):\n",
    "        print(msg)\n",
    "\n",
    "fn call_repeat():\n",
    "    repeat[3](\"hello world\")\n",
    "\n",
    "def main():\n",
    "    call_repeat()\n",
    "main()"
   ]
  },
  {
   "cell_type": "code",
   "execution_count": 13,
   "metadata": {},
   "outputs": [
    {
     "name": "stderr",
     "output_type": "stream",
     "text": [
      "error: \u001b[0;1;31m\u001b[1mExpression [13]:7:5: \u001b[0m\u001b[1muse of unknown declaration 'help', 'fn' declarations require explicit variable declarations\n",
      "\u001b[0m    help(od)\n",
      "\u001b[0;1;32m    ^~~~\n",
      "\u001b[0m\u001b[0m\n",
      "expression failed to parse (no further compiler diagnostics)"
     ]
    }
   ],
   "source": [
    "# Python\n",
    "from python import Python\n",
    "\n",
    "fn main() raises:\n",
    "    let od: PythonObject = Python.import_module(\"os\")\n",
    "    print(od)\n",
    "    help(od) # 编译报错\n",
    "\n",
    "main()\n",
    "\n"
   ]
  },
  {
   "cell_type": "code",
   "execution_count": null,
   "metadata": {},
   "outputs": [],
   "source": [
    "# Matrix multiplication\n",
    "\n",
    "def main():\n",
    "    let A: DType.matr"
   ]
  }
 ],
 "metadata": {
  "kernelspec": {
   "display_name": "Mojo",
   "language": "mojo",
   "name": "mojo-jupyter-kernel"
  },
  "language_info": {
   "codemirror_mode": {
    "name": "mojo"
   },
   "file_extension": ".mojo",
   "mimetype": "text/x-mojo",
   "name": "mojo"
  }
 },
 "nbformat": 4,
 "nbformat_minor": 2
}
