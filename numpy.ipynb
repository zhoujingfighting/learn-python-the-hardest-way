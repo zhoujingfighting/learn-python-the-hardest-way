{
 "cells": [
  {
   "cell_type": "code",
   "execution_count": 12,
   "metadata": {},
   "outputs": [
    {
     "name": "stdout",
     "output_type": "stream",
     "text": [
      "[[0 3 0 9]\n",
      " [1 3 9 2]\n",
      " [1 5 0 7]]\n",
      "[-2 -5 -9  0]\n",
      "[ 2 11  9 18]\n"
     ]
    }
   ],
   "source": [
    "import numpy as np"
   ]
  },
  {
   "cell_type": "markdown",
   "metadata": {},
   "source": [
    "## 2.3.3 Numpy的通用函数"
   ]
  },
  {
   "cell_type": "code",
   "execution_count": null,
   "metadata": {},
   "outputs": [],
   "source": [
    "x = np.arange(4)\n",
    "print(x)\n",
    "print(\"x       =\", x)\n",
    "print(\"x + 5   =\", x+5)\n",
    "print(\"x - 5   =\", x-5)\n",
    "print(\"x * 2   =\", x*2)\n",
    "print(\"x / 2   =\", x/2)\n",
    "print(\"x // 2  =\", x//2)\n",
    "print(\"-x      =\", -x)\n",
    "print(\"x ** 2  =\", x**2)"
   ]
  },
  {
   "cell_type": "markdown",
   "metadata": {},
   "source": [
    "| 运算符     | 通用函数         | 描述                             |\n",
    "|-----------|-----------------|---------------------------------|\n",
    "| +         |  np.add         | 加法运算（即 1 + 1 = 2）           |\n",
    "| *         |  np.multiply    | 乘法运算（即 `2 * 3 = 6`）      |\n",
    "| -         | `np.negative`   | 负数运算（即 `-2`）             |\n",
    "| *         | `np.multiply`   | 乘法运算（即 `2 * 3 = 6`）      |\n",
    "| /         | `np.divide`     | 除法运算（即 `3 / 2 = 1.5`）    |\n",
    "| //        | `np.floor_divide` | 地板除法运算（floor division，即 `3 // 2 = 1`） |\n",
    "| **        | `np.power`      | 指数运算（即 `2 ** 3 = 8`）     |\n",
    "| %         | `np.mod`        | 模 / 余数（即 `9 % 4 = 1`）     |"
   ]
  },
  {
   "cell_type": "code",
   "execution_count": 25,
   "metadata": {},
   "outputs": [
    {
     "data": {
      "text/plain": [
       "array([ 2,  3,  6,  9, 15])"
      ]
     },
     "execution_count": 25,
     "metadata": {},
     "output_type": "execute_result"
    }
   ],
   "source": [
    "x = np.array([-2, -3, -6, 9, 15])\n",
    "np.abs(x)"
   ]
  }
 ],
 "metadata": {
  "kernelspec": {
   "display_name": "Python 3",
   "language": "python",
   "name": "python3"
  },
  "language_info": {
   "codemirror_mode": {
    "name": "ipython",
    "version": 3
   },
   "file_extension": ".py",
   "mimetype": "text/x-python",
   "name": "python",
   "nbconvert_exporter": "python",
   "pygments_lexer": "ipython3",
   "version": "3.10.12"
  }
 },
 "nbformat": 4,
 "nbformat_minor": 2
}
